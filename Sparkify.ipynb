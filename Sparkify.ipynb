{
 "cells": [
  {
   "cell_type": "markdown",
   "metadata": {},
   "source": [
    "## Sparkify Capstone Project (Predicting the user churn)"
   ]
  },
  {
   "cell_type": "code",
   "execution_count": 2,
   "metadata": {},
   "outputs": [
    {
     "data": {
      "text/plain": [
       "[Row(artist='Martin Orford', auth='Logged In', firstName='Joseph', gender='M', itemInSession=20, lastName='Morales', length=597.55057, level='free', location='Corpus Christi, TX', method='PUT', page='NextSong', registration=1532063507000, sessionId=292, song='Grand Designs', status=200, ts=1538352011000, userAgent='\"Mozilla/5.0 (Macintosh; Intel Mac OS X 10_9_4) AppleWebKit/537.36 (KHTML, like Gecko) Chrome/36.0.1985.125 Safari/537.36\"', userId='293'),\n",
       " Row(artist=\"John Brown's Body\", auth='Logged In', firstName='Sawyer', gender='M', itemInSession=74, lastName='Larson', length=380.21179, level='free', location='Houston-The Woodlands-Sugar Land, TX', method='PUT', page='NextSong', registration=1538069638000, sessionId=97, song='Bulls', status=200, ts=1538352025000, userAgent='\"Mozilla/5.0 (Macintosh; Intel Mac OS X 10_9_4) AppleWebKit/537.36 (KHTML, like Gecko) Chrome/36.0.1985.143 Safari/537.36\"', userId='98'),\n",
       " Row(artist='Afroman', auth='Logged In', firstName='Maverick', gender='M', itemInSession=184, lastName='Santiago', length=202.37016, level='paid', location='Orlando-Kissimmee-Sanford, FL', method='PUT', page='NextSong', registration=1535953455000, sessionId=178, song='Because I Got High', status=200, ts=1538352118000, userAgent='\"Mozilla/5.0 (Macintosh; Intel Mac OS X 10_9_4) AppleWebKit/537.36 (KHTML, like Gecko) Chrome/36.0.1985.143 Safari/537.36\"', userId='179'),\n",
       " Row(artist=None, auth='Logged In', firstName='Maverick', gender='M', itemInSession=185, lastName='Santiago', length=None, level='paid', location='Orlando-Kissimmee-Sanford, FL', method='PUT', page='Logout', registration=1535953455000, sessionId=178, song=None, status=307, ts=1538352119000, userAgent='\"Mozilla/5.0 (Macintosh; Intel Mac OS X 10_9_4) AppleWebKit/537.36 (KHTML, like Gecko) Chrome/36.0.1985.143 Safari/537.36\"', userId='179'),\n",
       " Row(artist='Lily Allen', auth='Logged In', firstName='Gianna', gender='F', itemInSession=22, lastName='Campos', length=194.53342, level='paid', location='Mobile, AL', method='PUT', page='NextSong', registration=1535931018000, sessionId=245, song='Smile (Radio Edit)', status=200, ts=1538352124000, userAgent='Mozilla/5.0 (Windows NT 6.1; WOW64; rv:31.0) Gecko/20100101 Firefox/31.0', userId='246')]"
      ]
     },
     "execution_count": 2,
     "metadata": {},
     "output_type": "execute_result"
    }
   ],
   "source": [
    "import ibmos2spark\n",
    "\n",
    "# @hidden_cell\n",
    "credentials = {\n",
    "    'endpoint': 'https://s3-api.us-geo.objectstorage.service.networklayer.com',\n",
    "    'api_key': '457ujvkZFpxzaSpTVd17JZcXboCkhgFD9oRYrmkNF-Bh',\n",
    "    'service_id': 'iam-ServiceId-f8a7d4db-3036-49fd-b9b5-db115af6ca48',\n",
    "    'iam_service_endpoint': 'https://iam.bluemix.net/oidc/token'}\n",
    "\n",
    "configuration_name = 'os_f68250162c014fe99aa26a4b35ce9144_configs'\n",
    "cos = ibmos2spark.CloudObjectStorage(sc, credentials, configuration_name, 'bluemix_cos')\n",
    "\n",
    "from pyspark.sql import SparkSession\n",
    "spark = SparkSession.builder.getOrCreate()\n",
    "# Since JSON data can be semi-structured and contain additional metadata, it is possible that you might face issues with the DataFrame layout.\n",
    "# Please read the documentation of 'SparkSession.read()' to learn more about the possibilities to adjust the data loading.\n",
    "# PySpark documentation: http://spark.apache.org/docs/2.0.2/api/python/pyspark.sql.html#pyspark.sql.DataFrameReader.json\n",
    "\n",
    "df_data_1 = spark.read.json(cos.url('medium-sparkify-event-data.json', 'sparkify-donotdelete-pr-ywhilf027ygkgf'))\n",
    "df_data_1.take(5)\n"
   ]
  },
  {
   "cell_type": "code",
   "execution_count": 3,
   "metadata": {},
   "outputs": [],
   "source": [
    "# import libraries\n",
    "from pyspark.sql import SparkSession\n",
    "from pyspark.sql.functions import avg, col, concat, desc, explode, lit, min, max, split, udf\n",
    "from pyspark.sql.types import IntegerType\n",
    "from pyspark.sql.window import Window\n",
    "\n",
    "from pyspark.ml import Pipeline\n",
    "from pyspark.ml.classification import LogisticRegression, GBTClassifier,LinearSVC\n",
    "from pyspark.ml.evaluation import BinaryClassificationEvaluator, MulticlassClassificationEvaluator\n",
    "from pyspark.ml.feature import CountVectorizer, IDF, Normalizer, PCA, RegexTokenizer, StandardScaler, StopWordsRemover, StringIndexer, VectorAssembler\n",
    "from pyspark.ml.regression import LinearRegression\n",
    "from pyspark.ml.tuning import CrossValidator, ParamGridBuilder\n",
    "\n",
    "\n",
    "import re\n",
    "import datetime\n",
    "import numpy as np\n",
    "import pandas as pd\n",
    "%matplotlib inline\n",
    "import matplotlib.pyplot as plt"
   ]
  },
  {
   "cell_type": "markdown",
   "metadata": {},
   "source": [
    "# Load and Clean Dataset\n",
    "Clean your dataset, checking for invalid or missing data. For example, records without userids or sessionids."
   ]
  },
  {
   "cell_type": "code",
   "execution_count": 4,
   "metadata": {},
   "outputs": [
    {
     "name": "stdout",
     "output_type": "stream",
     "text": [
      "root\n",
      " |-- artist: string (nullable = true)\n",
      " |-- auth: string (nullable = true)\n",
      " |-- firstName: string (nullable = true)\n",
      " |-- gender: string (nullable = true)\n",
      " |-- itemInSession: long (nullable = true)\n",
      " |-- lastName: string (nullable = true)\n",
      " |-- length: double (nullable = true)\n",
      " |-- level: string (nullable = true)\n",
      " |-- location: string (nullable = true)\n",
      " |-- method: string (nullable = true)\n",
      " |-- page: string (nullable = true)\n",
      " |-- registration: long (nullable = true)\n",
      " |-- sessionId: long (nullable = true)\n",
      " |-- song: string (nullable = true)\n",
      " |-- status: long (nullable = true)\n",
      " |-- ts: long (nullable = true)\n",
      " |-- userAgent: string (nullable = true)\n",
      " |-- userId: string (nullable = true)\n",
      "\n"
     ]
    }
   ],
   "source": [
    "df_data_1.printSchema()"
   ]
  },
  {
   "cell_type": "code",
   "execution_count": 5,
   "metadata": {},
   "outputs": [],
   "source": [
    "df_data_1.createOrReplaceTempView(\"df_log\")"
   ]
  },
  {
   "cell_type": "code",
   "execution_count": 6,
   "metadata": {},
   "outputs": [
    {
     "name": "stdout",
     "output_type": "stream",
     "text": [
      "+-----+\n",
      "|level|\n",
      "+-----+\n",
      "| free|\n",
      "| paid|\n",
      "+-----+\n",
      "\n"
     ]
    }
   ],
   "source": [
    "spark.sql(\"SELECT DISTINCT level FROM df_log\").show()"
   ]
  },
  {
   "cell_type": "code",
   "execution_count": 7,
   "metadata": {},
   "outputs": [
    {
     "name": "stdout",
     "output_type": "stream",
     "text": [
      "+--------------------+------+\n",
      "|                page|   num|\n",
      "+--------------------+------+\n",
      "|            NextSong|432877|\n",
      "|                Home| 27412|\n",
      "|           Thumbs Up| 23826|\n",
      "|     Add to Playlist| 12349|\n",
      "|          Add Friend|  8087|\n",
      "|         Roll Advert|  7773|\n",
      "|               Login|  6011|\n",
      "|              Logout|  5990|\n",
      "|         Thumbs Down|  4911|\n",
      "|           Downgrade|  3811|\n",
      "|                Help|  3150|\n",
      "|            Settings|  2964|\n",
      "|               About|  1855|\n",
      "|             Upgrade|   968|\n",
      "|       Save Settings|   585|\n",
      "|               Error|   519|\n",
      "|      Submit Upgrade|   287|\n",
      "|    Submit Downgrade|   117|\n",
      "|              Cancel|    99|\n",
      "|Cancellation Conf...|    99|\n",
      "|            Register|    11|\n",
      "| Submit Registration|     4|\n",
      "+--------------------+------+\n",
      "\n"
     ]
    }
   ],
   "source": [
    "#We will use cancellation confirmation page as the keywords whether the user churn or not\n",
    "spark.sql(\"SELECT page, COUNT(*) AS num FROM df_log GROUP BY page ORDER BY num DESC\").show(30)"
   ]
  },
  {
   "cell_type": "code",
   "execution_count": 8,
   "metadata": {},
   "outputs": [
    {
     "name": "stdout",
     "output_type": "stream",
     "text": [
      "+------+-----+\n",
      "|userID|  num|\n",
      "+------+-----+\n",
      "|      |15700|\n",
      "|    10|  423|\n",
      "|   100| 3999|\n",
      "|100001|  134|\n",
      "|100002|  177|\n",
      "|100003|  827|\n",
      "|100004|  373|\n",
      "|100005|  100|\n",
      "|100006|  375|\n",
      "|100007| 1052|\n",
      "|100008|  463|\n",
      "|100009| 2987|\n",
      "|100010|  137|\n",
      "|100011| 1303|\n",
      "|100012|  167|\n",
      "|100013|   27|\n",
      "|100014|  406|\n",
      "|100015|  529|\n",
      "|100016|  200|\n",
      "|100017|  178|\n",
      "+------+-----+\n",
      "only showing top 20 rows\n",
      "\n"
     ]
    }
   ],
   "source": [
    "#There are some missing userID record\n",
    "spark.sql(\"SELECT DISTINCT userID, COUNT(*) AS num FROM df_log GROUP BY userID ORDER BY userID ASC\").show()"
   ]
  },
  {
   "cell_type": "code",
   "execution_count": 9,
   "metadata": {},
   "outputs": [
    {
     "name": "stdout",
     "output_type": "stream",
     "text": [
      "+---------+---+\n",
      "|sessionID|num|\n",
      "+---------+---+\n",
      "|        1|178|\n",
      "|        2| 62|\n",
      "|        3| 87|\n",
      "|        4| 98|\n",
      "|        5|121|\n",
      "|        6|120|\n",
      "|        7| 22|\n",
      "|        9|642|\n",
      "|       10|298|\n",
      "|       11|280|\n",
      "|       12| 80|\n",
      "|       13| 72|\n",
      "|       15|122|\n",
      "|       16| 88|\n",
      "|       17|527|\n",
      "|       18|140|\n",
      "|       19| 11|\n",
      "|       20| 38|\n",
      "|       21| 73|\n",
      "|       22| 33|\n",
      "+---------+---+\n",
      "only showing top 20 rows\n",
      "\n"
     ]
    }
   ],
   "source": [
    "#there is no missing sessionID\n",
    "spark.sql(\"SELECT DISTINCT sessionID, COUNT(*) AS num FROM df_log GROUP BY sessionID ORDER BY sessionID ASC\").show()"
   ]
  },
  {
   "cell_type": "code",
   "execution_count": 10,
   "metadata": {},
   "outputs": [],
   "source": [
    "#drop null userID\n",
    "df = df_data_1.filter(df_data_1.userId != '')"
   ]
  },
  {
   "cell_type": "code",
   "execution_count": 11,
   "metadata": {},
   "outputs": [
    {
     "data": {
      "text/plain": [
       "528005"
      ]
     },
     "execution_count": 11,
     "metadata": {},
     "output_type": "execute_result"
    }
   ],
   "source": [
    "df.count()"
   ]
  },
  {
   "cell_type": "markdown",
   "metadata": {},
   "source": [
    "# Exploratory Data Analysis\n",
    "When you're working with the full dataset, perform EDA by loading a small subset of the data and doing basic manipulations within Spark. In this workspace, you are already provided a small subset of data you can explore.\n",
    "\n",
    "### Define Churn\n",
    "\n",
    "Once you've done some preliminary analysis, create a column `Churn` to use as the label for your model. I suggest using the `Cancellation Confirmation` events to define your churn, which happen for both paid and free users. As a bonus task, you can also look into the `Downgrade` events.\n",
    "\n",
    "### Explore Data\n",
    "Once you've defined churn, perform some exploratory data analysis to observe the behavior for users who stayed vs users who churned. You can start by exploring aggregates on these two groups of users, observing how much of a specific action they experienced per a certain time unit or number of songs played."
   ]
  },
  {
   "cell_type": "code",
   "execution_count": 12,
   "metadata": {},
   "outputs": [],
   "source": [
    "#Define Churn\n",
    "churn_event = udf(lambda x: 1 if x == \"Cancellation Confirmation\" else 0, IntegerType())"
   ]
  },
  {
   "cell_type": "code",
   "execution_count": 13,
   "metadata": {},
   "outputs": [
    {
     "data": {
      "text/plain": [
       "[Row(artist='Martin Orford', auth='Logged In', firstName='Joseph', gender='M', itemInSession=20, lastName='Morales', length=597.55057, level='free', location='Corpus Christi, TX', method='PUT', page='NextSong', registration=1532063507000, sessionId=292, song='Grand Designs', status=200, ts=1538352011000, userAgent='\"Mozilla/5.0 (Macintosh; Intel Mac OS X 10_9_4) AppleWebKit/537.36 (KHTML, like Gecko) Chrome/36.0.1985.125 Safari/537.36\"', userId='293', churn=0)]"
      ]
     },
     "execution_count": 13,
     "metadata": {},
     "output_type": "execute_result"
    }
   ],
   "source": [
    "df_churn = df.withColumn(\"churn\", churn_event(\"page\"))\n",
    "df_churn.take(1)"
   ]
  },
  {
   "cell_type": "code",
   "execution_count": 14,
   "metadata": {},
   "outputs": [],
   "source": [
    "df_churn.createOrReplaceTempView(\"df_churn_log\")"
   ]
  },
  {
   "cell_type": "code",
   "execution_count": 15,
   "metadata": {},
   "outputs": [
    {
     "name": "stdout",
     "output_type": "stream",
     "text": [
      "+--------------+\n",
      "|num_user_churn|\n",
      "+--------------+\n",
      "|            99|\n",
      "+--------------+\n",
      "\n"
     ]
    }
   ],
   "source": [
    "spark.sql(\"SELECT COUNT(DISTINCT userID) AS num_user_churn FROM df_churn_log WHERE churn=1\").show()\n",
    "#there are 99 users churn from our dataset"
   ]
  },
  {
   "cell_type": "code",
   "execution_count": 16,
   "metadata": {},
   "outputs": [
    {
     "name": "stdout",
     "output_type": "stream",
     "text": [
      "+--------+\n",
      "|num_user|\n",
      "+--------+\n",
      "|     448|\n",
      "+--------+\n",
      "\n"
     ]
    }
   ],
   "source": [
    "spark.sql(\"SELECT COUNT(DISTINCT userID) AS num_user FROM df_churn_log\").show()\n",
    "#there are altogether 448 users in our dataset"
   ]
  },
  {
   "cell_type": "code",
   "execution_count": 17,
   "metadata": {},
   "outputs": [
    {
     "name": "stdout",
     "output_type": "stream",
     "text": [
      "+------+-------+\n",
      "|userID|churn_d|\n",
      "+------+-------+\n",
      "|100010|      1|\n",
      "|200002|      1|\n",
      "|   296|      1|\n",
      "|   125|      0|\n",
      "|    51|      1|\n",
      "|   124|      1|\n",
      "|     7|      0|\n",
      "|200037|      1|\n",
      "|   169|      0|\n",
      "|   205|      0|\n",
      "|   272|      0|\n",
      "|   282|      0|\n",
      "|   232|      0|\n",
      "|    15|      0|\n",
      "|    54|      1|\n",
      "|   234|      1|\n",
      "|200043|      0|\n",
      "|   155|      0|\n",
      "|100014|      1|\n",
      "|   154|      1|\n",
      "+------+-------+\n",
      "only showing top 20 rows\n",
      "\n"
     ]
    }
   ],
   "source": [
    "#create a table indicating for each user, whether he/she churned or not?\n",
    "user_churn = spark.sql(\"SELECT userID, SUM(churn) AS churn_d FROM df_churn_log GROUP BY userID\")\n",
    "user_churn.show()"
   ]
  },
  {
   "cell_type": "code",
   "execution_count": 18,
   "metadata": {},
   "outputs": [
    {
     "data": {
      "text/plain": [
       "[Row(artist='Darude', auth='Logged In', firstName='Darianna', gender='F', itemInSession=0, lastName='Carpenter', length=226.08934, level='free', location='Bridgeport-Stamford-Norwalk, CT', method='PUT', page='NextSong', registration=1538016340000, sessionId=62, song='Sandstorm', status=200, ts=1538991392000, userAgent='\"Mozilla/5.0 (iPhone; CPU iPhone OS 7_1_2 like Mac OS X) AppleWebKit/537.51.2 (KHTML, like Gecko) Version/7.0 Mobile/11D257 Safari/9537.53\"', userId='100010', churn=0, churn_d=1)]"
      ]
     },
     "execution_count": 18,
     "metadata": {},
     "output_type": "execute_result"
    }
   ],
   "source": [
    "#or we could use partition by as well.\n",
    "data_log_new = spark.sql(\"SELECT a.*, b.churn_d\\\n",
    "                          FROM \\\n",
    "                              df_churn_log AS a \\\n",
    "                          INNER JOIN \\\n",
    "                              (SELECT userID, SUM(churn) AS churn_d \\\n",
    "                               FROM df_churn_log \\\n",
    "                               GROUP BY userID) AS b \\\n",
    "                          ON a.userID=b.userID\")\n",
    "data_log_new.createOrReplaceTempView(\"data_log_new\")\n",
    "data_log_new.take(1)"
   ]
  },
  {
   "cell_type": "code",
   "execution_count": 48,
   "metadata": {},
   "outputs": [
    {
     "name": "stdout",
     "output_type": "stream",
     "text": [
      "+-------+------------------+\n",
      "|churn_d|  avg(listen_time)|\n",
      "+-------+------------------+\n",
      "|      0|248241.54574739255|\n",
      "|      1| 212170.5400305049|\n",
      "+-------+------------------+\n",
      "\n"
     ]
    }
   ],
   "source": [
    "#avg time to listen\n",
    "p1 = data_log_new \\\n",
    "        .select('userID','length','churn_d') \\\n",
    "        .groupBy('userID','churn_d') \\\n",
    "        .agg({'length':'sum'}) \\\n",
    "        .withColumnRenamed('sum(length)', 'listen_time') \\\n",
    "        .select('churn_d','listen_time') \\\n",
    "        .groupBy('churn_d') \\\n",
    "        .agg({'listen_time':'avg'})\n",
    "p1.show()"
   ]
  },
  {
   "cell_type": "code",
   "execution_count": 55,
   "metadata": {},
   "outputs": [
    {
     "data": {
      "text/plain": [
       "Text(0.5,1,'Average Listen Time Between Two Groups')"
      ]
     },
     "execution_count": 55,
     "metadata": {},
     "output_type": "execute_result"
    },
    {
     "data": {
      "image/png": "[encoded data removed]",
      "text/plain": [
       "<matplotlib.figure.Figure at 0x2ad923fe2eb8>"
      ]
     },
     "metadata": {},
     "output_type": "display_data"
    }
   ],
   "source": [
    "importances = [248.241,212.170]\n",
    "churn_d = ['Not Cancel','Cancel']\n",
    "y_pos = np.arange(len(churn_d))\n",
    " \n",
    "plt.barh(y_pos, importances, align='center', alpha=0.5)\n",
    "plt.yticks(y_pos, churn_d)\n",
    "plt.xlabel('Average Listen Time(k seconds)')\n",
    "plt.title('Average Listen Time Between Two Groups')"
   ]
  },
  {
   "cell_type": "code",
   "execution_count": 20,
   "metadata": {},
   "outputs": [
    {
     "name": "stdout",
     "output_type": "stream",
     "text": [
      "+-------+-----------------+\n",
      "|churn_d|    avg(num_song)|\n",
      "+-------+-----------------+\n",
      "|      0|998.6189111747851|\n",
      "|      1|852.1111111111111|\n",
      "+-------+-----------------+\n",
      "\n"
     ]
    }
   ],
   "source": [
    "#nubmer of song to listen\n",
    "data_log_new \\\n",
    "        .select('userID','song','churn_d') \\\n",
    "        .groupBy('userID','churn_d') \\\n",
    "        .agg({'song':'count'}) \\\n",
    "        .withColumnRenamed('count(song)', 'num_song') \\\n",
    "        .select('churn_d','num_song') \\\n",
    "        .groupBy('churn_d') \\\n",
    "        .agg({'num_song':'avg'}).show()"
   ]
  },
  {
   "cell_type": "code",
   "execution_count": 56,
   "metadata": {},
   "outputs": [
    {
     "data": {
      "text/plain": [
       "Text(0.5,1,'Average Number of Songs Listened Between Two Groups')"
      ]
     },
     "execution_count": 56,
     "metadata": {},
     "output_type": "execute_result"
    },
    {
     "data": {
      "image/png": "[encoded data removed]",
      "text/plain": [
       "<matplotlib.figure.Figure at 0x2ad923fbb198>"
      ]
     },
     "metadata": {},
     "output_type": "display_data"
    }
   ],
   "source": [
    "importances = [998.618,852.111]\n",
    "churn_d = ['Not Cancel','Cancel']\n",
    "y_pos = np.arange(len(churn_d))\n",
    " \n",
    "plt.barh(y_pos, importances, align='center', alpha=0.5)\n",
    "plt.yticks(y_pos, churn_d)\n",
    "plt.xlabel('Average Number of Songs Listened')\n",
    "plt.title('Average Number of Songs Listened Between Two Groups')"
   ]
  },
  {
   "cell_type": "code",
   "execution_count": 21,
   "metadata": {},
   "outputs": [
    {
     "name": "stdout",
     "output_type": "stream",
     "text": [
      "+-------+-------------------+\n",
      "|churn_d|avg(num_thumb_down)|\n",
      "+-------+-------------------+\n",
      "|      0| 12.516666666666667|\n",
      "|      1|  12.98876404494382|\n",
      "+-------+-------------------+\n",
      "\n"
     ]
    }
   ],
   "source": [
    "#number of thumb-up and thumb_down\n",
    "data_log_new \\\n",
    "        .select('userID','page','churn_d') \\\n",
    "        .where(data_log_new.page == 'Thumbs Down') \\\n",
    "        .groupBy('userID','churn_d') \\\n",
    "        .agg({'page':'count'}) \\\n",
    "        .withColumnRenamed('count(page)', 'num_thumb_down') \\\n",
    "        .select('churn_d','num_thumb_down') \\\n",
    "        .groupBy('churn_d') \\\n",
    "        .agg({'num_thumb_down':'avg'}).show()"
   ]
  },
  {
   "cell_type": "code",
   "execution_count": 22,
   "metadata": {},
   "outputs": [
    {
     "name": "stdout",
     "output_type": "stream",
     "text": [
      "+-------+-----------------+\n",
      "|churn_d|avg(num_thumb_up)|\n",
      "+-------+-----------------+\n",
      "|      0|57.26099706744868|\n",
      "|      1|43.87755102040816|\n",
      "+-------+-----------------+\n",
      "\n"
     ]
    }
   ],
   "source": [
    "data_log_new \\\n",
    "        .select('userID','page','churn_d') \\\n",
    "        .where(data_log_new.page == 'Thumbs Up') \\\n",
    "        .groupBy('userID','churn_d') \\\n",
    "        .agg({'page':'count'}) \\\n",
    "        .withColumnRenamed('count(page)', 'num_thumb_up') \\\n",
    "        .select('churn_d','num_thumb_up') \\\n",
    "        .groupBy('churn_d') \\\n",
    "        .agg({'num_thumb_up':'avg'}).show()"
   ]
  },
  {
   "cell_type": "code",
   "execution_count": 57,
   "metadata": {},
   "outputs": [
    {
     "data": {
      "text/plain": [
       "Text(0.5,1,'Average Number of Thumb-up Between Two Groups')"
      ]
     },
     "execution_count": 57,
     "metadata": {},
     "output_type": "execute_result"
    },
    {
     "data": {
      "image/png": "[encoded data removed]",
      "text/plain": [
       "<matplotlib.figure.Figure at 0x2ad923f06898>"
      ]
     },
     "metadata": {},
     "output_type": "display_data"
    }
   ],
   "source": [
    "importances = [57.2609,43.8775]\n",
    "churn_d = ['Not Cancel','Cancel']\n",
    "y_pos = np.arange(len(churn_d))\n",
    " \n",
    "plt.barh(y_pos, importances, align='center', alpha=0.5)\n",
    "plt.yticks(y_pos, churn_d)\n",
    "plt.xlabel('Average Number of Thumb-up')\n",
    "plt.title('Average Number of Thumb-up Between Two Groups')"
   ]
  },
  {
   "cell_type": "markdown",
   "metadata": {},
   "source": [
    "# Feature Engineering\n",
    "Once you've familiarized yourself with the data, build out the features you find promising to train your model on. To work with the full dataset, you can follow the following steps.\n",
    "- Write a script to extract the necessary features from the smaller subset of data\n",
    "- Ensure that your script is scalable, using the best practices discussed in Lesson 3\n",
    "- Try your script on the full data set, debugging your script if necessary\n",
    "\n",
    "If you are working in the classroom workspace, you can just extract features based on the small subset of data contained here. Be sure to transfer over this work to the larger dataset when you work on your Spark cluster."
   ]
  },
  {
   "cell_type": "code",
   "execution_count": 23,
   "metadata": {},
   "outputs": [],
   "source": [
    "#feature\n",
    "#number of total time spent\n",
    "d1 = data_log_new \\\n",
    "        .select('userID','length') \\\n",
    "        .groupBy('userID') \\\n",
    "        .agg({'length':'sum'}) \\\n",
    "        .withColumnRenamed('sum(length)', 'listen_time')\n",
    "#number of songs listened to\n",
    "d2 = data_log_new \\\n",
    "        .select('userID','song') \\\n",
    "        .groupBy('userID') \\\n",
    "        .agg({'song':'count'}) \\\n",
    "        .withColumnRenamed('count(song)', 'num_song')\n",
    "#number of thumb-up, thumb-down\n",
    "d3 = data_log_new \\\n",
    "        .select('userID','page') \\\n",
    "        .where(data_log_new.page == 'Thumbs Down') \\\n",
    "        .groupBy('userID') \\\n",
    "        .agg({'page':'count'}) \\\n",
    "        .withColumnRenamed('count(page)', 'num_thumb_down')\n",
    "d4 = data_log_new \\\n",
    "        .select('userID','page') \\\n",
    "        .where(data_log_new.page == 'Thumbs Up') \\\n",
    "        .groupBy('userID') \\\n",
    "        .agg({'page':'count'}) \\\n",
    "        .withColumnRenamed('count(page)', 'num_thumb_up') \n",
    "#number of add to playlist\n",
    "d5 = data_log_new \\\n",
    "        .select('userID','page') \\\n",
    "        .where(data_log_new.page == 'Add to Playlist') \\\n",
    "        .groupBy('userID') \\\n",
    "        .agg({'page':'count'}) \\\n",
    "        .withColumnRenamed('count(page)', 'add_to_playlist')\n",
    "#number of lifetime\n",
    "d6 = data_log_new \\\n",
    "        .select('userID','registration','ts') \\\n",
    "        .withColumn('lifetime',(data_log_new.ts-data_log_new.registration)) \\\n",
    "        .groupBy('userID') \\\n",
    "        .agg({'lifetime':'max'}) \\\n",
    "        .withColumnRenamed('max(lifetime)','lt')\n",
    "#number of add to playlist\n",
    "d7 = data_log_new \\\n",
    "        .select('userID','page') \\\n",
    "        .where(data_log_new.page == 'Add Friend') \\\n",
    "        .groupBy('userID') \\\n",
    "        .agg({'page':'count'}) \\\n",
    "        .withColumnRenamed('count(page)', 'add_friend') \n",
    "#number of help/rolladvert\n",
    "d8 = data_log_new \\\n",
    "        .select('userID','page') \\\n",
    "        .where(data_log_new.page == 'Help') \\\n",
    "        .groupBy('userID') \\\n",
    "        .agg({'page':'count'}) \\\n",
    "        .withColumnRenamed('count(page)', 'help') \n",
    "d9 = data_log_new \\\n",
    "        .select('userID','page') \\\n",
    "        .where(data_log_new.page == 'Roll Advert') \\\n",
    "        .groupBy('userID') \\\n",
    "        .agg({'page':'count'}) \\\n",
    "        .withColumnRenamed('count(page)', 'rolladvert') "
   ]
  },
  {
   "cell_type": "code",
   "execution_count": 24,
   "metadata": {},
   "outputs": [],
   "source": [
    "# join multiple table together\n",
    "dt = d1.join(d2,'userID','outer') \\\n",
    "    .join(d3,'userID','outer') \\\n",
    "    .join(d4,'userID','outer') \\\n",
    "    .join(d5,'userID','outer') \\\n",
    "    .join(d6,'userID','outer') \\\n",
    "    .join(d7,'userID','outer') \\\n",
    "    .join(d8,'userID','outer') \\\n",
    "    .join(d9,'userID','outer') \\\n",
    "    .join(user_churn,'userID','outer') \\\n",
    "    .drop('userID') \\\n",
    "    .fillna(0)"
   ]
  },
  {
   "cell_type": "code",
   "execution_count": 25,
   "metadata": {},
   "outputs": [
    {
     "name": "stdout",
     "output_type": "stream",
     "text": [
      "+------------------+--------+--------------+------------+---------------+----------+----------+----+----------+-------+\n",
      "|       listen_time|num_song|num_thumb_down|num_thumb_up|add_to_playlist|        lt|add_friend|help|rolladvert|churn_d|\n",
      "+------------------+--------+--------------+------------+---------------+----------+----------+----+----------+-------+\n",
      "|25870.950739999997|      96|             3|           4|              1|1237978000|         3|   0|        22|      1|\n",
      "| 78695.82683999998|     310|             5|          15|              6|4607120000|         2|   1|        11|      1|\n",
      "|28314.150059999996|     112|             0|           8|              3|2301546000|         2|   2|         9|      1|\n",
      "|15813.771070000003|      62|             1|           3|              2|9108471000|         3|   2|         6|      0|\n",
      "|456664.04057999986|    1826|            15|         102|             45|9724648000|        26|  10|         1|      1|\n",
      "+------------------+--------+--------------+------------+---------------+----------+----------+----+----------+-------+\n",
      "only showing top 5 rows\n",
      "\n"
     ]
    }
   ],
   "source": [
    "dt.show(5)"
   ]
  },
  {
   "cell_type": "code",
   "execution_count": 26,
   "metadata": {},
   "outputs": [
    {
     "data": {
      "text/plain": [
       "448"
      ]
     },
     "execution_count": 26,
     "metadata": {},
     "output_type": "execute_result"
    }
   ],
   "source": [
    "dt.count()"
   ]
  },
  {
   "cell_type": "code",
   "execution_count": 27,
   "metadata": {},
   "outputs": [],
   "source": [
    "#construct a vector\n",
    "incol = [\"listen_time\", \"num_song\", \"num_thumb_down\", \\\n",
    "          'num_thumb_up','add_to_playlist','lt','add_friend','help','rolladvert']\n",
    "assembler = VectorAssembler(inputCols=incol, outputCol=\"NumFeatures\")\n",
    "dt = assembler.transform(dt)"
   ]
  },
  {
   "cell_type": "code",
   "execution_count": 28,
   "metadata": {},
   "outputs": [],
   "source": [
    "scaler2 = StandardScaler(inputCol=\"NumFeatures\", outputCol=\"ScaledNumFeatures2\", withStd=True)\n",
    "scalerModel = scaler2.fit(dt)\n",
    "dt = scalerModel.transform(dt)"
   ]
  },
  {
   "cell_type": "code",
   "execution_count": 29,
   "metadata": {},
   "outputs": [
    {
     "data": {
      "text/plain": [
       "[Row(listen_time=25870.950739999997, num_song=96, num_thumb_down=3, num_thumb_up=4, add_to_playlist=1, lt=1237978000, add_friend=3, help=0, rolladvert=22, churn_d=1, NumFeatures=DenseVector([25870.9507, 96.0, 3.0, 4.0, 1.0, 1237978000.0, 3.0, 0.0, 22.0]), ScaledNumFeatures2=DenseVector([0.0904, 0.0834, 0.2246, 0.0574, 0.0297, 0.3534, 0.1351, 0.0, 1.028])),\n",
       " Row(listen_time=78695.82683999998, num_song=310, num_thumb_down=5, num_thumb_up=15, add_to_playlist=6, lt=4607120000, add_friend=2, help=1, rolladvert=11, churn_d=1, NumFeatures=DenseVector([78695.8268, 310.0, 5.0, 15.0, 6.0, 4607120000.0, 2.0, 1.0, 11.0]), ScaledNumFeatures2=DenseVector([0.2749, 0.2694, 0.3743, 0.2154, 0.1782, 1.3151, 0.0901, 0.1367, 0.514]))]"
      ]
     },
     "execution_count": 29,
     "metadata": {},
     "output_type": "execute_result"
    }
   ],
   "source": [
    "dt.take(2)"
   ]
  },
  {
   "cell_type": "markdown",
   "metadata": {},
   "source": [
    "# Modeling\n",
    "Split the full dataset into train, test, and validation sets. Test out several of the machine learning methods you learned. Evaluate the accuracy of the various models, tuning parameters as necessary. Determine your winning model based on test accuracy and report results on the validation set. Since the churned users are a fairly small subset, I suggest using F1 score as the metric to optimize."
   ]
  },
  {
   "cell_type": "code",
   "execution_count": 30,
   "metadata": {},
   "outputs": [
    {
     "data": {
      "text/plain": [
       "[Row(label=1, features=DenseVector([0.0904, 0.0834, 0.2246, 0.0574, 0.0297, 0.3534, 0.1351, 0.0, 1.028]))]"
      ]
     },
     "execution_count": 30,
     "metadata": {},
     "output_type": "execute_result"
    }
   ],
   "source": [
    "dt2 = dt.select(col('churn_d').alias('label'),col('ScaledNumFeatures2').alias('features'))\n",
    "dt2.take(1)"
   ]
  },
  {
   "cell_type": "code",
   "execution_count": 31,
   "metadata": {},
   "outputs": [],
   "source": [
    "rest,validation = dt2.randomSplit([0.8, 0.2], seed=50)"
   ]
  },
  {
   "cell_type": "code",
   "execution_count": 32,
   "metadata": {},
   "outputs": [],
   "source": [
    "#we train three different models: logistic regression, svm and gradient boosting tree\n",
    "logit = LogisticRegression(maxIter=10,regParam=0.0)\n",
    "gbt = GBTClassifier(maxDepth=5,maxIter=10,seed=42)\n",
    "svm = LinearSVC(maxIter=10, regParam=0.01)"
   ]
  },
  {
   "cell_type": "code",
   "execution_count": 33,
   "metadata": {},
   "outputs": [],
   "source": [
    "#Logistic Regression\n",
    "e1 = MulticlassClassificationEvaluator(metricName='f1')\n",
    "paramGrid = ParamGridBuilder() \\\n",
    "    .addGrid(logit.regParam,[0.0, 0.05, 0.1]) \\\n",
    "    .build()\n",
    "crossval = CrossValidator(estimator=logit,\n",
    "                          estimatorParamMaps=paramGrid,\n",
    "                          evaluator=e1,\n",
    "                          numFolds=3)"
   ]
  },
  {
   "cell_type": "code",
   "execution_count": 64,
   "metadata": {},
   "outputs": [
    {
     "data": {
      "text/plain": [
       "[0.7146602298840452, 0.7012620769260017, 0.6903366038525016]"
      ]
     },
     "execution_count": 64,
     "metadata": {},
     "output_type": "execute_result"
    }
   ],
   "source": [
    "cvModel_q1 = crossval.fit(rest)\n",
    "#report the f1 score \n",
    "cvModel_q1.avgMetrics"
   ]
  },
  {
   "cell_type": "code",
   "execution_count": 34,
   "metadata": {},
   "outputs": [],
   "source": [
    "#Support Vector Machine\n",
    "e1 = MulticlassClassificationEvaluator(metricName='f1')\n",
    "paramGrid = ParamGridBuilder() \\\n",
    "    .addGrid(svm.regParam,[0.01, 0.05, 0.5]) \\\n",
    "    .build()\n",
    "crossval = CrossValidator(estimator=svm,\n",
    "                          estimatorParamMaps=paramGrid,\n",
    "                          evaluator=e1,\n",
    "                          numFolds=3)"
   ]
  },
  {
   "cell_type": "code",
   "execution_count": 35,
   "metadata": {},
   "outputs": [
    {
     "data": {
      "text/plain": [
       "[0.6780940226372448, 0.6780940226372448, 0.6780940226372448]"
      ]
     },
     "execution_count": 35,
     "metadata": {},
     "output_type": "execute_result"
    }
   ],
   "source": [
    "cvModel_q2 = crossval.fit(rest)\n",
    "cvModel_q2.avgMetrics"
   ]
  },
  {
   "cell_type": "code",
   "execution_count": 36,
   "metadata": {},
   "outputs": [],
   "source": [
    "#gradient boosted tree models\n",
    "e1 = MulticlassClassificationEvaluator(metricName='f1')\n",
    "paramGrid = ParamGridBuilder() \\\n",
    "    .addGrid(gbt.maxDepth,[5, 10]) \\\n",
    "    .build()\n",
    "crossval = CrossValidator(estimator=gbt,\n",
    "                          estimatorParamMaps=paramGrid,\n",
    "                          evaluator=e1,\n",
    "                          numFolds=3)"
   ]
  },
  {
   "cell_type": "code",
   "execution_count": 37,
   "metadata": {},
   "outputs": [
    {
     "data": {
      "text/plain": [
       "[0.7621021634840353, 0.7160764202188692]"
      ]
     },
     "execution_count": 37,
     "metadata": {},
     "output_type": "execute_result"
    }
   ],
   "source": [
    "cvModel_q3 = crossval.fit(rest)\n",
    "cvModel_q3.avgMetrics"
   ]
  },
  {
   "cell_type": "markdown",
   "metadata": {},
   "source": [
    "#### Conclusion\n",
    "Among the three models we've been trained:\n",
    "-  logistic regression (best f1 score 0.7147)\n",
    "-  graident boosted tree (best f1 score 0.7621 )\n",
    "-  supported vector machine (best f1 score 0.6781)\n",
    "\n",
    "We decided to choose gradient boosted tree as the best model with tunned parameter (maxDepth=5).\n",
    "And we fit our best model on the validation set. And we look at the feature importance as well.\n",
    "\n",
    "**Score on the final validation set**\n",
    "- Accuracy: 0.7816\n",
    "- F1 Score: 0.7416"
   ]
  },
  {
   "cell_type": "code",
   "execution_count": 33,
   "metadata": {},
   "outputs": [],
   "source": [
    "gbt_best = GBTClassifier(maxDepth=5,maxIter=10,seed=42)"
   ]
  },
  {
   "cell_type": "code",
   "execution_count": 34,
   "metadata": {},
   "outputs": [],
   "source": [
    "gbt_model = gbt_best.fit(rest)"
   ]
  },
  {
   "cell_type": "code",
   "execution_count": 35,
   "metadata": {},
   "outputs": [],
   "source": [
    "results = gbt_model.transform(validation)"
   ]
  },
  {
   "cell_type": "code",
   "execution_count": 36,
   "metadata": {},
   "outputs": [
    {
     "name": "stdout",
     "output_type": "stream",
     "text": [
      "0.7816091954022989\n"
     ]
    }
   ],
   "source": [
    "evaluator = MulticlassClassificationEvaluator(predictionCol=\"prediction\")\n",
    "print(evaluator.evaluate(results, {evaluator.metricName: \"accuracy\"}))"
   ]
  },
  {
   "cell_type": "code",
   "execution_count": 37,
   "metadata": {},
   "outputs": [
    {
     "name": "stdout",
     "output_type": "stream",
     "text": [
      "0.741624623929646\n"
     ]
    }
   ],
   "source": [
    "print(evaluator.evaluate(results, {evaluator.metricName: \"f1\"}))"
   ]
  },
  {
   "cell_type": "code",
   "execution_count": 43,
   "metadata": {},
   "outputs": [
    {
     "data": {
      "text/plain": [
       "SparseVector(9, {0: 0.1057, 1: 0.0515, 2: 0.1145, 3: 0.149, 4: 0.0458, 5: 0.195, 6: 0.1265, 7: 0.0748, 8: 0.1373})"
      ]
     },
     "execution_count": 43,
     "metadata": {},
     "output_type": "execute_result"
    }
   ],
   "source": [
    "gbt_model.featureImportances"
   ]
  },
  {
   "cell_type": "code",
   "execution_count": 46,
   "metadata": {},
   "outputs": [
    {
     "data": {
      "text/plain": [
       "Text(0.5,1,'GBT Feature Importances')"
      ]
     },
     "execution_count": 46,
     "metadata": {},
     "output_type": "execute_result"
    },
    {
     "data": {
      "image/png": "[encoded data removed]",
      "text/plain": [
       "<matplotlib.figure.Figure at 0x2ad92fe43320>"
      ]
     },
     "metadata": {},
     "output_type": "display_data"
    }
   ],
   "source": [
    "importances = [0.1057, 0.0515, 0.1145, 0.149, 0.0458, 0.195, 0.1265, 0.0748, 0.1373]\n",
    "feature = [\"listen_time\", \"num_song\", \"num_thumb_down\", \\\n",
    "          'num_thumb_up','add_to_playlist','lt','add_friend','help','rolladvert']\n",
    "y_pos = np.arange(len(feature))\n",
    " \n",
    "plt.barh(y_pos, importances, align='center', alpha=0.5)\n",
    "plt.yticks(y_pos, feature)\n",
    "plt.xlabel('Importance Score')\n",
    "plt.title('GBT Feature Importances')"
   ]
  },
  {
   "cell_type": "markdown",
   "metadata": {},
   "source": [
    "# Final Steps\n",
    "Clean up your code, adding comments and renaming variables to make the code easier to read and maintain. Refer to the Spark Project Overview page and Data Scientist Capstone Project Rubric to make sure you are including all components of the capstone project and meet all expectations. Remember, this includes thorough documentation in a README file in a Github repository, as well as a web app or blog post."
   ]
  },
  {
   "cell_type": "code",
   "execution_count": null,
   "metadata": {},
   "outputs": [],
   "source": []
  }
 ],
 "metadata": {
  "kernelspec": {
   "display_name": "Python 3.5 with Spark",
   "language": "python3",
   "name": "python3"
  },
  "language_info": {
   "codemirror_mode": {
    "name": "ipython",
    "version": 3
   },
   "file_extension": ".py",
   "mimetype": "text/x-python",
   "name": "python",
   "nbconvert_exporter": "python",
   "pygments_lexer": "ipython3",
   "version": "3.5.4"
  }
 },
 "nbformat": 4,
 "nbformat_minor": 1
}
